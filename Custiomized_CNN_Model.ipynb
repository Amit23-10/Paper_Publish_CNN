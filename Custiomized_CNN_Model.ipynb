{
 "cells": [
  {
   "cell_type": "code",
   "execution_count": 1,
   "id": "a486bfc6",
   "metadata": {},
   "outputs": [
    {
     "name": "stdout",
     "output_type": "stream",
     "text": [
      "Requirement already satisfied: opencv-python in c:\\users\\amitr\\anaconda3\\lib\\site-packages (4.6.0.66)\n",
      "Requirement already satisfied: numpy>=1.14.5 in c:\\users\\amitr\\anaconda3\\lib\\site-packages (from opencv-python) (1.21.5)\n"
     ]
    },
    {
     "name": "stderr",
     "output_type": "stream",
     "text": [
      "\n",
      "[notice] A new release of pip is available: 23.0.1 -> 23.1.2\n",
      "[notice] To update, run: python.exe -m pip install --upgrade pip\n"
     ]
    }
   ],
   "source": [
    "!pip install opencv-python\n",
    "\n",
    "import tensorflow as tf\n",
    "import numpy as np\n",
    "import cv2\n",
    "import os\n",
    "from tensorflow.keras.preprocessing.image import ImageDataGenerator\n",
    "from tensorflow.keras.callbacks import EarlyStopping, ModelCheckpoint, ReduceLROnPlateau\n",
    "from tensorflow.keras.preprocessing import image\n",
    "from sklearn.metrics import confusion_matrix\n",
    "from sklearn.metrics import classification_report\n",
    "import matplotlib.pyplot as plt\n",
    "from keras.models import load_model\n",
    "import pandas as pd"
   ]
  },
  {
   "cell_type": "code",
   "execution_count": 2,
   "id": "904ce441",
   "metadata": {},
   "outputs": [
    {
     "name": "stdout",
     "output_type": "stream",
     "text": [
      "Found 21000 images belonging to 4 classes.\n"
     ]
    }
   ],
   "source": [
    "train = ImageDataGenerator(rescale = 1./255,\n",
    "                                   shear_range = 0.2,\n",
    "                                   zoom_range = 0.2,\n",
    "                                   horizontal_flip = True)\n",
    "\n",
    "train_dataset = train.flow_from_directory('D:\\\\Data set\\\\train',\n",
    "                                         target_size = (224,224),\n",
    "                                         batch_size = 32,\n",
    "                                         class_mode = 'categorical')"
   ]
  },
  {
   "cell_type": "code",
   "execution_count": 3,
   "id": "1ed628ad",
   "metadata": {},
   "outputs": [
    {
     "name": "stdout",
     "output_type": "stream",
     "text": [
      "Found 2900 images belonging to 4 classes.\n"
     ]
    }
   ],
   "source": [
    "test = ImageDataGenerator(rescale=1./255)\n",
    "test_dataset = test.flow_from_directory('D:\\\\Data set\\\\test',\n",
    "                                         target_size = (224,224),\n",
    "                                         batch_size = 32,\n",
    "                                         class_mode = 'categorical')"
   ]
  },
  {
   "cell_type": "code",
   "execution_count": 4,
   "id": "c112f607",
   "metadata": {},
   "outputs": [
    {
     "data": {
      "text/plain": [
       "{'CNV': 0, 'DME': 1, 'DRUSEN': 2, 'NORMAL': 3}"
      ]
     },
     "execution_count": 4,
     "metadata": {},
     "output_type": "execute_result"
    }
   ],
   "source": [
    "train_dataset.class_indices"
   ]
  },
  {
   "cell_type": "code",
   "execution_count": 7,
   "id": "8465a27f",
   "metadata": {},
   "outputs": [],
   "source": [
    "from tensorflow import keras\n",
    "from tensorflow.keras.models import Sequential\n",
    "from tensorflow.keras.layers import Conv2D,MaxPooling2D,Flatten,Dense,Activation,BatchNormalization"
   ]
  },
  {
   "cell_type": "code",
   "execution_count": 10,
   "id": "f0af7cf0",
   "metadata": {},
   "outputs": [],
   "source": [
    "model=Sequential()\n",
    "\n",
    "model.add( Conv2D(32,(3,3),input_shape=(224,224,3),activation='relu'))\n",
    "model.add(BatchNormalization())\n",
    "model.add(MaxPooling2D(pool_size=(2,2)))\n",
    "\n",
    "model.add( Conv2D(64,(3,3),activation='relu'))\n",
    "model.add(BatchNormalization())\n",
    "model.add(MaxPooling2D(pool_size=(2,2)))\n",
    "\n",
    "model.add( Conv2D(128,(3,3),activation='relu'))\n",
    "model.add(BatchNormalization())\n",
    "model.add(MaxPooling2D(pool_size=(2,2)))\n",
    "\n",
    "model.add( Conv2D(128,(3,3),activation='relu'))\n",
    "model.add(BatchNormalization())\n",
    "model.add(MaxPooling2D(pool_size=(2,2)))\n",
    "\n",
    "model.add( Conv2D(128,(3,3),activation='relu'))\n",
    "model.add(BatchNormalization())\n",
    "model.add(MaxPooling2D(pool_size=(2,2)))\n",
    "\n",
    "model.add( Conv2D(64,(3,3),activation='relu'))\n",
    "model.add(BatchNormalization())\n",
    "model.add(MaxPooling2D(pool_size=(2,2)))\n",
    "\n",
    "model.add(Flatten())\n",
    "model.add(Dense(256,activation='relu'))\n",
    "model.add(BatchNormalization())\n",
    "\n",
    "model.add(Dense(64,activation='relu'))\n",
    "model.add(BatchNormalization())\n",
    "\n",
    "model.add(Dense(4,activation='softmax'))\n",
    "model.add(BatchNormalization())"
   ]
  },
  {
   "cell_type": "code",
   "execution_count": 11,
   "id": "a6f7c33b",
   "metadata": {},
   "outputs": [
    {
     "name": "stdout",
     "output_type": "stream",
     "text": [
      "Model: \"sequential_2\"\n",
      "_________________________________________________________________\n",
      " Layer (type)                Output Shape              Param #   \n",
      "=================================================================\n",
      " conv2d_12 (Conv2D)          (None, 222, 222, 32)      896       \n",
      "                                                                 \n",
      " batch_normalization_18 (Bat  (None, 222, 222, 32)     128       \n",
      " chNormalization)                                                \n",
      "                                                                 \n",
      " max_pooling2d_12 (MaxPoolin  (None, 111, 111, 32)     0         \n",
      " g2D)                                                            \n",
      "                                                                 \n",
      " conv2d_13 (Conv2D)          (None, 109, 109, 64)      18496     \n",
      "                                                                 \n",
      " batch_normalization_19 (Bat  (None, 109, 109, 64)     256       \n",
      " chNormalization)                                                \n",
      "                                                                 \n",
      " max_pooling2d_13 (MaxPoolin  (None, 54, 54, 64)       0         \n",
      " g2D)                                                            \n",
      "                                                                 \n",
      " conv2d_14 (Conv2D)          (None, 52, 52, 128)       73856     \n",
      "                                                                 \n",
      " batch_normalization_20 (Bat  (None, 52, 52, 128)      512       \n",
      " chNormalization)                                                \n",
      "                                                                 \n",
      " max_pooling2d_14 (MaxPoolin  (None, 26, 26, 128)      0         \n",
      " g2D)                                                            \n",
      "                                                                 \n",
      " conv2d_15 (Conv2D)          (None, 24, 24, 128)       147584    \n",
      "                                                                 \n",
      " batch_normalization_21 (Bat  (None, 24, 24, 128)      512       \n",
      " chNormalization)                                                \n",
      "                                                                 \n",
      " max_pooling2d_15 (MaxPoolin  (None, 12, 12, 128)      0         \n",
      " g2D)                                                            \n",
      "                                                                 \n",
      " conv2d_16 (Conv2D)          (None, 10, 10, 128)       147584    \n",
      "                                                                 \n",
      " batch_normalization_22 (Bat  (None, 10, 10, 128)      512       \n",
      " chNormalization)                                                \n",
      "                                                                 \n",
      " max_pooling2d_16 (MaxPoolin  (None, 5, 5, 128)        0         \n",
      " g2D)                                                            \n",
      "                                                                 \n",
      " conv2d_17 (Conv2D)          (None, 3, 3, 64)          73792     \n",
      "                                                                 \n",
      " batch_normalization_23 (Bat  (None, 3, 3, 64)         256       \n",
      " chNormalization)                                                \n",
      "                                                                 \n",
      " max_pooling2d_17 (MaxPoolin  (None, 1, 1, 64)         0         \n",
      " g2D)                                                            \n",
      "                                                                 \n",
      " flatten_2 (Flatten)         (None, 64)                0         \n",
      "                                                                 \n",
      " dense_6 (Dense)             (None, 256)               16640     \n",
      "                                                                 \n",
      " batch_normalization_24 (Bat  (None, 256)              1024      \n",
      " chNormalization)                                                \n",
      "                                                                 \n",
      " dense_7 (Dense)             (None, 64)                16448     \n",
      "                                                                 \n",
      " batch_normalization_25 (Bat  (None, 64)               256       \n",
      " chNormalization)                                                \n",
      "                                                                 \n",
      " dense_8 (Dense)             (None, 4)                 260       \n",
      "                                                                 \n",
      " batch_normalization_26 (Bat  (None, 4)                16        \n",
      " chNormalization)                                                \n",
      "                                                                 \n",
      "=================================================================\n",
      "Total params: 499,028\n",
      "Trainable params: 497,292\n",
      "Non-trainable params: 1,736\n",
      "_________________________________________________________________\n"
     ]
    }
   ],
   "source": [
    "model.summary()"
   ]
  },
  {
   "cell_type": "code",
   "execution_count": 13,
   "id": "3ea8b453",
   "metadata": {},
   "outputs": [],
   "source": [
    "callbacks = [\n",
    "    ReduceLROnPlateau(factor=0.1, patience=5, min_lr=0.000001, verbose=1),    \n",
    "] \n",
    "\n",
    "METRICS = [\n",
    "      \"accuracy\",\n",
    "      tf.keras.metrics.Precision(name='precision'),\n",
    "      tf.keras.metrics.Recall(name='recall'),\n",
    "      tf.keras.metrics.AUC(name='auc'),\n",
    "]"
   ]
  },
  {
   "cell_type": "code",
   "execution_count": 14,
   "id": "20959c69",
   "metadata": {},
   "outputs": [],
   "source": [
    "model.compile(loss='categorical_crossentropy',optimizer='adam',metrics=METRICS)"
   ]
  },
  {
   "cell_type": "code",
   "execution_count": 15,
   "id": "b30dd1d2",
   "metadata": {},
   "outputs": [
    {
     "name": "stdout",
     "output_type": "stream",
     "text": [
      "Epoch 1/80\n",
      "657/657 [==============================] - 1034s 2s/step - loss: 0.9898 - accuracy: 0.5574 - precision: 0.7343 - recall: 0.3849 - auc: 0.8192 - val_loss: 0.4852 - val_accuracy: 0.8492 - val_precision: 0.9004 - val_recall: 0.7748 - val_auc: 0.9695 - lr: 0.0010\n",
      "Epoch 2/80\n",
      "657/657 [==============================] - 1032s 2s/step - loss: 0.6470 - accuracy: 0.7485 - precision: 0.8010 - recall: 0.6866 - auc: 0.9280 - val_loss: 0.2231 - val_accuracy: 0.9370 - val_precision: 0.9475 - val_recall: 0.9318 - val_auc: 0.9893 - lr: 0.0010\n",
      "Epoch 3/80\n",
      "657/657 [==============================] - 1092s 2s/step - loss: 0.4694 - accuracy: 0.8244 - precision: 0.8521 - recall: 0.7968 - auc: 0.9612 - val_loss: 0.1589 - val_accuracy: 0.9514 - val_precision: 0.9553 - val_recall: 0.9494 - val_auc: 0.9930 - lr: 0.0010\n",
      "Epoch 4/80\n",
      "657/657 [==============================] - 1108s 2s/step - loss: 0.3859 - accuracy: 0.8588 - precision: 0.8757 - recall: 0.8419 - auc: 0.9730 - val_loss: 0.2799 - val_accuracy: 0.9029 - val_precision: 0.9042 - val_recall: 0.8967 - val_auc: 0.9850 - lr: 0.0010\n",
      "Epoch 5/80\n",
      "657/657 [==============================] - 1041s 2s/step - loss: 0.3404 - accuracy: 0.8768 - precision: 0.8899 - recall: 0.8648 - auc: 0.9785 - val_loss: 0.1194 - val_accuracy: 0.9711 - val_precision: 0.9739 - val_recall: 0.9638 - val_auc: 0.9970 - lr: 0.0010\n",
      "Epoch 6/80\n",
      "657/657 [==============================] - 1018s 2s/step - loss: 0.3012 - accuracy: 0.8928 - precision: 0.9029 - recall: 0.8838 - auc: 0.9829 - val_loss: 0.0902 - val_accuracy: 0.9793 - val_precision: 0.9793 - val_recall: 0.9793 - val_auc: 0.9982 - lr: 0.0010\n",
      "Epoch 7/80\n",
      "657/657 [==============================] - 1017s 2s/step - loss: 0.2694 - accuracy: 0.9046 - precision: 0.9130 - recall: 0.8969 - auc: 0.9859 - val_loss: 0.1228 - val_accuracy: 0.9545 - val_precision: 0.9545 - val_recall: 0.9545 - val_auc: 0.9968 - lr: 0.0010\n",
      "Epoch 8/80\n",
      "657/657 [==============================] - 1041s 2s/step - loss: 0.2571 - accuracy: 0.9119 - precision: 0.9192 - recall: 0.9048 - auc: 0.9869 - val_loss: 0.1415 - val_accuracy: 0.9535 - val_precision: 0.9535 - val_recall: 0.9535 - val_auc: 0.9959 - lr: 0.0010\n",
      "Epoch 9/80\n",
      "657/657 [==============================] - 990s 2s/step - loss: 0.2435 - accuracy: 0.9129 - precision: 0.9199 - recall: 0.9058 - auc: 0.9885 - val_loss: 0.0603 - val_accuracy: 0.9783 - val_precision: 0.9783 - val_recall: 0.9783 - val_auc: 0.9992 - lr: 0.0010\n",
      "Epoch 10/80\n",
      "657/657 [==============================] - 998s 2s/step - loss: 0.2243 - accuracy: 0.9229 - precision: 0.9288 - recall: 0.9184 - auc: 0.9898 - val_loss: 0.0836 - val_accuracy: 0.9824 - val_precision: 0.9834 - val_recall: 0.9814 - val_auc: 0.9977 - lr: 0.0010\n",
      "Epoch 11/80\n",
      "657/657 [==============================] - 1001s 2s/step - loss: 0.2185 - accuracy: 0.9241 - precision: 0.9298 - recall: 0.9192 - auc: 0.9904 - val_loss: 0.0973 - val_accuracy: 0.9700 - val_precision: 0.9700 - val_recall: 0.9690 - val_auc: 0.9965 - lr: 0.0010\n",
      "Epoch 12/80\n",
      "657/657 [==============================] - 997s 2s/step - loss: 0.2056 - accuracy: 0.9292 - precision: 0.9343 - recall: 0.9237 - auc: 0.9911 - val_loss: 0.0765 - val_accuracy: 0.9793 - val_precision: 0.9803 - val_recall: 0.9773 - val_auc: 0.9984 - lr: 0.0010\n",
      "Epoch 13/80\n",
      "657/657 [==============================] - 1021s 2s/step - loss: 0.1994 - accuracy: 0.9311 - precision: 0.9361 - recall: 0.9264 - auc: 0.9917 - val_loss: 0.0678 - val_accuracy: 0.9814 - val_precision: 0.9834 - val_recall: 0.9804 - val_auc: 0.9985 - lr: 0.0010\n",
      "Epoch 14/80\n",
      "657/657 [==============================] - 1010s 2s/step - loss: 0.1913 - accuracy: 0.9325 - precision: 0.9376 - recall: 0.9287 - auc: 0.9923 - val_loss: 0.0548 - val_accuracy: 0.9845 - val_precision: 0.9855 - val_recall: 0.9845 - val_auc: 0.9993 - lr: 0.0010\n",
      "Epoch 15/80\n",
      "657/657 [==============================] - 997s 2s/step - loss: 0.1839 - accuracy: 0.9351 - precision: 0.9389 - recall: 0.9321 - auc: 0.9928 - val_loss: 0.0749 - val_accuracy: 0.9742 - val_precision: 0.9741 - val_recall: 0.9731 - val_auc: 0.9987 - lr: 0.0010\n",
      "Epoch 16/80\n",
      "657/657 [==============================] - 997s 2s/step - loss: 0.1764 - accuracy: 0.9401 - precision: 0.9436 - recall: 0.9363 - auc: 0.9931 - val_loss: 0.0746 - val_accuracy: 0.9845 - val_precision: 0.9845 - val_recall: 0.9845 - val_auc: 0.9964 - lr: 0.0010\n",
      "Epoch 17/80\n",
      "657/657 [==============================] - 1001s 2s/step - loss: 0.1682 - accuracy: 0.9415 - precision: 0.9449 - recall: 0.9377 - auc: 0.9940 - val_loss: 0.0906 - val_accuracy: 0.9742 - val_precision: 0.9742 - val_recall: 0.9742 - val_auc: 0.9961 - lr: 0.0010\n",
      "Epoch 18/80\n",
      "657/657 [==============================] - 996s 2s/step - loss: 0.1741 - accuracy: 0.9390 - precision: 0.9428 - recall: 0.9356 - auc: 0.9935 - val_loss: 0.1171 - val_accuracy: 0.9628 - val_precision: 0.9638 - val_recall: 0.9628 - val_auc: 0.9958 - lr: 0.0010\n",
      "Epoch 19/80\n",
      "657/657 [==============================] - ETA: 0s - loss: 0.1618 - accuracy: 0.9447 - precision: 0.9477 - recall: 0.9414 - auc: 0.9942\n",
      "Epoch 19: ReduceLROnPlateau reducing learning rate to 0.00010000000474974513.\n",
      "657/657 [==============================] - 1002s 2s/step - loss: 0.1618 - accuracy: 0.9447 - precision: 0.9477 - recall: 0.9414 - auc: 0.9942 - val_loss: 0.1228 - val_accuracy: 0.9649 - val_precision: 0.9659 - val_recall: 0.9649 - val_auc: 0.9953 - lr: 0.0010\n",
      "Epoch 20/80\n",
      "657/657 [==============================] - 1025s 2s/step - loss: 0.1211 - accuracy: 0.9574 - precision: 0.9594 - recall: 0.9561 - auc: 0.9966 - val_loss: 0.0768 - val_accuracy: 0.9773 - val_precision: 0.9773 - val_recall: 0.9773 - val_auc: 0.9980 - lr: 1.0000e-04\n",
      "Epoch 21/80\n",
      "657/657 [==============================] - 1009s 2s/step - loss: 0.1124 - accuracy: 0.9620 - precision: 0.9635 - recall: 0.9604 - auc: 0.9969 - val_loss: 0.0726 - val_accuracy: 0.9804 - val_precision: 0.9804 - val_recall: 0.9804 - val_auc: 0.9983 - lr: 1.0000e-04\n",
      "Epoch 22/80\n",
      "657/657 [==============================] - 1009s 2s/step - loss: 0.1089 - accuracy: 0.9621 - precision: 0.9637 - recall: 0.9605 - auc: 0.9972 - val_loss: 0.0875 - val_accuracy: 0.9752 - val_precision: 0.9752 - val_recall: 0.9752 - val_auc: 0.9962 - lr: 1.0000e-04\n",
      "Epoch 23/80\n",
      "657/657 [==============================] - 1006s 2s/step - loss: 0.1073 - accuracy: 0.9625 - precision: 0.9639 - recall: 0.9611 - auc: 0.9971 - val_loss: 0.0888 - val_accuracy: 0.9783 - val_precision: 0.9783 - val_recall: 0.9783 - val_auc: 0.9961 - lr: 1.0000e-04\n",
      "Epoch 24/80\n",
      "657/657 [==============================] - ETA: 0s - loss: 0.1032 - accuracy: 0.9645 - precision: 0.9661 - recall: 0.9634 - auc: 0.9973\n",
      "Epoch 24: ReduceLROnPlateau reducing learning rate to 1.0000000474974514e-05.\n",
      "657/657 [==============================] - 1004s 2s/step - loss: 0.1032 - accuracy: 0.9645 - precision: 0.9661 - recall: 0.9634 - auc: 0.9973 - val_loss: 0.0868 - val_accuracy: 0.9793 - val_precision: 0.9793 - val_recall: 0.9793 - val_auc: 0.9973 - lr: 1.0000e-04\n",
      "Epoch 25/80\n",
      "657/657 [==============================] - 1060s 2s/step - loss: 0.0983 - accuracy: 0.9652 - precision: 0.9669 - recall: 0.9641 - auc: 0.9976 - val_loss: 0.0864 - val_accuracy: 0.9793 - val_precision: 0.9793 - val_recall: 0.9793 - val_auc: 0.9955 - lr: 1.0000e-05\n",
      "Epoch 26/80\n",
      "657/657 [==============================] - 1008s 2s/step - loss: 0.0992 - accuracy: 0.9660 - precision: 0.9673 - recall: 0.9648 - auc: 0.9975 - val_loss: 0.0870 - val_accuracy: 0.9793 - val_precision: 0.9793 - val_recall: 0.9793 - val_auc: 0.9961 - lr: 1.0000e-05\n",
      "Epoch 27/80\n",
      "657/657 [==============================] - 1004s 2s/step - loss: 0.0979 - accuracy: 0.9660 - precision: 0.9672 - recall: 0.9644 - auc: 0.9976 - val_loss: 0.0880 - val_accuracy: 0.9793 - val_precision: 0.9793 - val_recall: 0.9793 - val_auc: 0.9956 - lr: 1.0000e-05\n",
      "Epoch 28/80\n",
      "657/657 [==============================] - 1022s 2s/step - loss: 0.0976 - accuracy: 0.9668 - precision: 0.9683 - recall: 0.9652 - auc: 0.9975 - val_loss: 0.0897 - val_accuracy: 0.9793 - val_precision: 0.9793 - val_recall: 0.9793 - val_auc: 0.9955 - lr: 1.0000e-05\n",
      "Epoch 29/80\n",
      "657/657 [==============================] - ETA: 0s - loss: 0.0958 - accuracy: 0.9665 - precision: 0.9681 - recall: 0.9652 - auc: 0.9976\n",
      "Epoch 29: ReduceLROnPlateau reducing learning rate to 1.0000000656873453e-06.\n",
      "657/657 [==============================] - 1024s 2s/step - loss: 0.0958 - accuracy: 0.9665 - precision: 0.9681 - recall: 0.9652 - auc: 0.9976 - val_loss: 0.0890 - val_accuracy: 0.9814 - val_precision: 0.9814 - val_recall: 0.9814 - val_auc: 0.9957 - lr: 1.0000e-05\n",
      "Epoch 30/80\n",
      "657/657 [==============================] - 989s 2s/step - loss: 0.0973 - accuracy: 0.9653 - precision: 0.9665 - recall: 0.9642 - auc: 0.9976 - val_loss: 0.0885 - val_accuracy: 0.9804 - val_precision: 0.9804 - val_recall: 0.9804 - val_auc: 0.9957 - lr: 1.0000e-06\n",
      "Epoch 31/80\n",
      "657/657 [==============================] - 991s 2s/step - loss: 0.0981 - accuracy: 0.9667 - precision: 0.9683 - recall: 0.9656 - auc: 0.9976 - val_loss: 0.0886 - val_accuracy: 0.9804 - val_precision: 0.9804 - val_recall: 0.9804 - val_auc: 0.9957 - lr: 1.0000e-06\n",
      "Epoch 32/80\n",
      "657/657 [==============================] - 992s 2s/step - loss: 0.0949 - accuracy: 0.9682 - precision: 0.9694 - recall: 0.9668 - auc: 0.9977 - val_loss: 0.0883 - val_accuracy: 0.9804 - val_precision: 0.9804 - val_recall: 0.9804 - val_auc: 0.9957 - lr: 1.0000e-06\n",
      "Epoch 33/80\n",
      "657/657 [==============================] - 989s 2s/step - loss: 0.0975 - accuracy: 0.9658 - precision: 0.9670 - recall: 0.9650 - auc: 0.9974 - val_loss: 0.0882 - val_accuracy: 0.9804 - val_precision: 0.9804 - val_recall: 0.9804 - val_auc: 0.9952 - lr: 1.0000e-06\n",
      "Epoch 34/80\n",
      "657/657 [==============================] - ETA: 0s - loss: 0.0936 - accuracy: 0.9682 - precision: 0.9694 - recall: 0.9667 - auc: 0.9977\n",
      "Epoch 34: ReduceLROnPlateau reducing learning rate to 1e-06.\n",
      "657/657 [==============================] - 993s 2s/step - loss: 0.0936 - accuracy: 0.9682 - precision: 0.9694 - recall: 0.9667 - auc: 0.9977 - val_loss: 0.0883 - val_accuracy: 0.9804 - val_precision: 0.9804 - val_recall: 0.9804 - val_auc: 0.9952 - lr: 1.0000e-06\n",
      "Epoch 35/80\n",
      "657/657 [==============================] - 1001s 2s/step - loss: 0.0976 - accuracy: 0.9652 - precision: 0.9667 - recall: 0.9642 - auc: 0.9976 - val_loss: 0.0884 - val_accuracy: 0.9804 - val_precision: 0.9804 - val_recall: 0.9804 - val_auc: 0.9952 - lr: 1.0000e-06\n",
      "Epoch 36/80\n",
      "657/657 [==============================] - 1075s 2s/step - loss: 0.0958 - accuracy: 0.9664 - precision: 0.9684 - recall: 0.9651 - auc: 0.9977 - val_loss: 0.0884 - val_accuracy: 0.9804 - val_precision: 0.9804 - val_recall: 0.9804 - val_auc: 0.9952 - lr: 1.0000e-06\n",
      "Epoch 37/80\n",
      "657/657 [==============================] - 1070s 2s/step - loss: 0.0943 - accuracy: 0.9674 - precision: 0.9689 - recall: 0.9664 - auc: 0.9977 - val_loss: 0.0884 - val_accuracy: 0.9804 - val_precision: 0.9804 - val_recall: 0.9804 - val_auc: 0.9952 - lr: 1.0000e-06\n",
      "Epoch 38/80\n",
      "657/657 [==============================] - 1051s 2s/step - loss: 0.0935 - accuracy: 0.9672 - precision: 0.9685 - recall: 0.9658 - auc: 0.9980 - val_loss: 0.0888 - val_accuracy: 0.9804 - val_precision: 0.9804 - val_recall: 0.9804 - val_auc: 0.9952 - lr: 1.0000e-06\n",
      "Epoch 39/80\n",
      "657/657 [==============================] - 1062s 2s/step - loss: 0.0932 - accuracy: 0.9681 - precision: 0.9694 - recall: 0.9669 - auc: 0.9978 - val_loss: 0.0888 - val_accuracy: 0.9804 - val_precision: 0.9804 - val_recall: 0.9804 - val_auc: 0.9952 - lr: 1.0000e-06\n",
      "Epoch 40/80\n",
      "657/657 [==============================] - 1017s 2s/step - loss: 0.0940 - accuracy: 0.9669 - precision: 0.9683 - recall: 0.9657 - auc: 0.9978 - val_loss: 0.0889 - val_accuracy: 0.9804 - val_precision: 0.9804 - val_recall: 0.9804 - val_auc: 0.9952 - lr: 1.0000e-06\n",
      "Epoch 41/80\n",
      "657/657 [==============================] - 989s 2s/step - loss: 0.0968 - accuracy: 0.9658 - precision: 0.9673 - recall: 0.9644 - auc: 0.9976 - val_loss: 0.0889 - val_accuracy: 0.9804 - val_precision: 0.9804 - val_recall: 0.9804 - val_auc: 0.9952 - lr: 1.0000e-06\n",
      "Epoch 42/80\n",
      "657/657 [==============================] - 995s 2s/step - loss: 0.0940 - accuracy: 0.9674 - precision: 0.9687 - recall: 0.9660 - auc: 0.9978 - val_loss: 0.0887 - val_accuracy: 0.9804 - val_precision: 0.9804 - val_recall: 0.9804 - val_auc: 0.9952 - lr: 1.0000e-06\n",
      "Epoch 43/80\n",
      "657/657 [==============================] - 1021s 2s/step - loss: 0.0944 - accuracy: 0.9674 - precision: 0.9687 - recall: 0.9659 - auc: 0.9978 - val_loss: 0.0886 - val_accuracy: 0.9804 - val_precision: 0.9804 - val_recall: 0.9804 - val_auc: 0.9952 - lr: 1.0000e-06\n",
      "Epoch 44/80\n",
      "657/657 [==============================] - 1034s 2s/step - loss: 0.0939 - accuracy: 0.9669 - precision: 0.9681 - recall: 0.9659 - auc: 0.9978 - val_loss: 0.0886 - val_accuracy: 0.9804 - val_precision: 0.9804 - val_recall: 0.9804 - val_auc: 0.9952 - lr: 1.0000e-06\n",
      "Epoch 45/80\n",
      "657/657 [==============================] - 993s 2s/step - loss: 0.0975 - accuracy: 0.9657 - precision: 0.9667 - recall: 0.9644 - auc: 0.9975 - val_loss: 0.0888 - val_accuracy: 0.9804 - val_precision: 0.9804 - val_recall: 0.9804 - val_auc: 0.9952 - lr: 1.0000e-06\n",
      "Epoch 46/80\n",
      "657/657 [==============================] - 995s 2s/step - loss: 0.0952 - accuracy: 0.9656 - precision: 0.9669 - recall: 0.9644 - auc: 0.9978 - val_loss: 0.0885 - val_accuracy: 0.9804 - val_precision: 0.9804 - val_recall: 0.9804 - val_auc: 0.9952 - lr: 1.0000e-06\n",
      "Epoch 47/80\n",
      "657/657 [==============================] - 999s 2s/step - loss: 0.0942 - accuracy: 0.9674 - precision: 0.9690 - recall: 0.9661 - auc: 0.9977 - val_loss: 0.0888 - val_accuracy: 0.9804 - val_precision: 0.9804 - val_recall: 0.9804 - val_auc: 0.9952 - lr: 1.0000e-06\n",
      "Epoch 48/80\n",
      "657/657 [==============================] - 994s 2s/step - loss: 0.0931 - accuracy: 0.9665 - precision: 0.9679 - recall: 0.9655 - auc: 0.9979 - val_loss: 0.0889 - val_accuracy: 0.9804 - val_precision: 0.9804 - val_recall: 0.9804 - val_auc: 0.9952 - lr: 1.0000e-06\n",
      "Epoch 49/80\n",
      "657/657 [==============================] - 997s 2s/step - loss: 0.0971 - accuracy: 0.9660 - precision: 0.9674 - recall: 0.9649 - auc: 0.9977 - val_loss: 0.0885 - val_accuracy: 0.9804 - val_precision: 0.9804 - val_recall: 0.9804 - val_auc: 0.9951 - lr: 1.0000e-06\n",
      "Epoch 50/80\n",
      "657/657 [==============================] - 986s 2s/step - loss: 0.0950 - accuracy: 0.9658 - precision: 0.9669 - recall: 0.9646 - auc: 0.9976 - val_loss: 0.0891 - val_accuracy: 0.9804 - val_precision: 0.9804 - val_recall: 0.9804 - val_auc: 0.9951 - lr: 1.0000e-06\n",
      "Epoch 51/80\n",
      "657/657 [==============================] - 1028s 2s/step - loss: 0.0932 - accuracy: 0.9677 - precision: 0.9689 - recall: 0.9662 - auc: 0.9978 - val_loss: 0.0889 - val_accuracy: 0.9804 - val_precision: 0.9804 - val_recall: 0.9804 - val_auc: 0.9951 - lr: 1.0000e-06\n",
      "Epoch 52/80\n",
      "657/657 [==============================] - 962s 1s/step - loss: 0.0951 - accuracy: 0.9666 - precision: 0.9676 - recall: 0.9656 - auc: 0.9977 - val_loss: 0.0888 - val_accuracy: 0.9804 - val_precision: 0.9804 - val_recall: 0.9804 - val_auc: 0.9951 - lr: 1.0000e-06\n",
      "Epoch 53/80\n",
      "657/657 [==============================] - 980s 1s/step - loss: 0.0948 - accuracy: 0.9664 - precision: 0.9676 - recall: 0.9649 - auc: 0.9978 - val_loss: 0.0887 - val_accuracy: 0.9804 - val_precision: 0.9804 - val_recall: 0.9804 - val_auc: 0.9951 - lr: 1.0000e-06\n",
      "Epoch 54/80\n",
      "657/657 [==============================] - 981s 1s/step - loss: 0.0949 - accuracy: 0.9682 - precision: 0.9697 - recall: 0.9669 - auc: 0.9977 - val_loss: 0.0888 - val_accuracy: 0.9804 - val_precision: 0.9804 - val_recall: 0.9804 - val_auc: 0.9951 - lr: 1.0000e-06\n",
      "Epoch 55/80\n",
      "657/657 [==============================] - 972s 1s/step - loss: 0.0942 - accuracy: 0.9676 - precision: 0.9691 - recall: 0.9668 - auc: 0.9977 - val_loss: 0.0886 - val_accuracy: 0.9804 - val_precision: 0.9804 - val_recall: 0.9804 - val_auc: 0.9951 - lr: 1.0000e-06\n",
      "Epoch 56/80\n",
      "657/657 [==============================] - 979s 1s/step - loss: 0.0931 - accuracy: 0.9682 - precision: 0.9695 - recall: 0.9672 - auc: 0.9978 - val_loss: 0.0882 - val_accuracy: 0.9804 - val_precision: 0.9804 - val_recall: 0.9804 - val_auc: 0.9951 - lr: 1.0000e-06\n",
      "Epoch 57/80\n",
      "657/657 [==============================] - 970s 1s/step - loss: 0.0946 - accuracy: 0.9665 - precision: 0.9678 - recall: 0.9653 - auc: 0.9976 - val_loss: 0.0880 - val_accuracy: 0.9804 - val_precision: 0.9804 - val_recall: 0.9804 - val_auc: 0.9951 - lr: 1.0000e-06\n",
      "Epoch 58/80\n",
      "657/657 [==============================] - 959s 1s/step - loss: 0.0939 - accuracy: 0.9677 - precision: 0.9691 - recall: 0.9668 - auc: 0.9977 - val_loss: 0.0883 - val_accuracy: 0.9804 - val_precision: 0.9804 - val_recall: 0.9804 - val_auc: 0.9951 - lr: 1.0000e-06\n",
      "Epoch 59/80\n",
      "657/657 [==============================] - 973s 1s/step - loss: 0.0936 - accuracy: 0.9674 - precision: 0.9689 - recall: 0.9660 - auc: 0.9977 - val_loss: 0.0888 - val_accuracy: 0.9804 - val_precision: 0.9804 - val_recall: 0.9804 - val_auc: 0.9951 - lr: 1.0000e-06\n",
      "Epoch 60/80\n",
      "657/657 [==============================] - 961s 1s/step - loss: 0.0961 - accuracy: 0.9657 - precision: 0.9671 - recall: 0.9643 - auc: 0.9979 - val_loss: 0.0887 - val_accuracy: 0.9804 - val_precision: 0.9804 - val_recall: 0.9804 - val_auc: 0.9950 - lr: 1.0000e-06\n",
      "Epoch 61/80\n",
      "657/657 [==============================] - 962s 1s/step - loss: 0.0931 - accuracy: 0.9671 - precision: 0.9685 - recall: 0.9660 - auc: 0.9977 - val_loss: 0.0884 - val_accuracy: 0.9814 - val_precision: 0.9814 - val_recall: 0.9814 - val_auc: 0.9949 - lr: 1.0000e-06\n",
      "Epoch 62/80\n",
      "657/657 [==============================] - 966s 1s/step - loss: 0.0948 - accuracy: 0.9664 - precision: 0.9675 - recall: 0.9653 - auc: 0.9978 - val_loss: 0.0887 - val_accuracy: 0.9804 - val_precision: 0.9804 - val_recall: 0.9804 - val_auc: 0.9951 - lr: 1.0000e-06\n",
      "Epoch 63/80\n",
      "657/657 [==============================] - 965s 1s/step - loss: 0.0956 - accuracy: 0.9658 - precision: 0.9668 - recall: 0.9648 - auc: 0.9979 - val_loss: 0.0886 - val_accuracy: 0.9804 - val_precision: 0.9804 - val_recall: 0.9804 - val_auc: 0.9949 - lr: 1.0000e-06\n",
      "Epoch 64/80\n",
      "657/657 [==============================] - 965s 1s/step - loss: 0.0963 - accuracy: 0.9665 - precision: 0.9681 - recall: 0.9651 - auc: 0.9976 - val_loss: 0.0885 - val_accuracy: 0.9814 - val_precision: 0.9814 - val_recall: 0.9814 - val_auc: 0.9949 - lr: 1.0000e-06\n",
      "Epoch 65/80\n",
      "657/657 [==============================] - 967s 1s/step - loss: 0.0943 - accuracy: 0.9671 - precision: 0.9687 - recall: 0.9657 - auc: 0.9977 - val_loss: 0.0883 - val_accuracy: 0.9814 - val_precision: 0.9814 - val_recall: 0.9814 - val_auc: 0.9949 - lr: 1.0000e-06\n",
      "Epoch 66/80\n",
      "657/657 [==============================] - 968s 1s/step - loss: 0.0949 - accuracy: 0.9671 - precision: 0.9683 - recall: 0.9660 - auc: 0.9979 - val_loss: 0.0887 - val_accuracy: 0.9804 - val_precision: 0.9804 - val_recall: 0.9804 - val_auc: 0.9949 - lr: 1.0000e-06\n",
      "Epoch 67/80\n",
      "657/657 [==============================] - 968s 1s/step - loss: 0.0952 - accuracy: 0.9679 - precision: 0.9694 - recall: 0.9665 - auc: 0.9977 - val_loss: 0.0891 - val_accuracy: 0.9804 - val_precision: 0.9804 - val_recall: 0.9804 - val_auc: 0.9949 - lr: 1.0000e-06\n",
      "Epoch 68/80\n",
      "657/657 [==============================] - 963s 1s/step - loss: 0.0952 - accuracy: 0.9666 - precision: 0.9677 - recall: 0.9658 - auc: 0.9978 - val_loss: 0.0889 - val_accuracy: 0.9804 - val_precision: 0.9804 - val_recall: 0.9804 - val_auc: 0.9949 - lr: 1.0000e-06\n",
      "Epoch 69/80\n",
      "657/657 [==============================] - 958s 1s/step - loss: 0.0922 - accuracy: 0.9672 - precision: 0.9683 - recall: 0.9659 - auc: 0.9978 - val_loss: 0.0888 - val_accuracy: 0.9804 - val_precision: 0.9804 - val_recall: 0.9804 - val_auc: 0.9949 - lr: 1.0000e-06\n",
      "Epoch 70/80\n",
      "657/657 [==============================] - 968s 1s/step - loss: 0.0952 - accuracy: 0.9675 - precision: 0.9692 - recall: 0.9663 - auc: 0.9978 - val_loss: 0.0894 - val_accuracy: 0.9804 - val_precision: 0.9804 - val_recall: 0.9804 - val_auc: 0.9949 - lr: 1.0000e-06\n",
      "Epoch 71/80\n",
      "657/657 [==============================] - 961s 1s/step - loss: 0.0962 - accuracy: 0.9664 - precision: 0.9677 - recall: 0.9655 - auc: 0.9974 - val_loss: 0.0896 - val_accuracy: 0.9804 - val_precision: 0.9804 - val_recall: 0.9804 - val_auc: 0.9949 - lr: 1.0000e-06\n",
      "Epoch 72/80\n",
      "657/657 [==============================] - 966s 1s/step - loss: 0.0936 - accuracy: 0.9674 - precision: 0.9686 - recall: 0.9662 - auc: 0.9976 - val_loss: 0.0900 - val_accuracy: 0.9804 - val_precision: 0.9804 - val_recall: 0.9804 - val_auc: 0.9949 - lr: 1.0000e-06\n",
      "Epoch 73/80\n",
      "657/657 [==============================] - 965s 1s/step - loss: 0.0951 - accuracy: 0.9655 - precision: 0.9671 - recall: 0.9645 - auc: 0.9978 - val_loss: 0.0899 - val_accuracy: 0.9804 - val_precision: 0.9804 - val_recall: 0.9804 - val_auc: 0.9949 - lr: 1.0000e-06\n",
      "Epoch 74/80\n",
      "657/657 [==============================] - 963s 1s/step - loss: 0.0949 - accuracy: 0.9673 - precision: 0.9682 - recall: 0.9659 - auc: 0.9978 - val_loss: 0.0898 - val_accuracy: 0.9804 - val_precision: 0.9804 - val_recall: 0.9804 - val_auc: 0.9949 - lr: 1.0000e-06\n",
      "Epoch 75/80\n",
      "657/657 [==============================] - 965s 1s/step - loss: 0.0965 - accuracy: 0.9663 - precision: 0.9680 - recall: 0.9652 - auc: 0.9976 - val_loss: 0.0895 - val_accuracy: 0.9804 - val_precision: 0.9804 - val_recall: 0.9804 - val_auc: 0.9949 - lr: 1.0000e-06\n",
      "Epoch 76/80\n",
      "657/657 [==============================] - 962s 1s/step - loss: 0.0929 - accuracy: 0.9665 - precision: 0.9679 - recall: 0.9657 - auc: 0.9979 - val_loss: 0.0892 - val_accuracy: 0.9814 - val_precision: 0.9814 - val_recall: 0.9814 - val_auc: 0.9949 - lr: 1.0000e-06\n",
      "Epoch 77/80\n",
      "657/657 [==============================] - 967s 1s/step - loss: 0.0940 - accuracy: 0.9672 - precision: 0.9692 - recall: 0.9660 - auc: 0.9978 - val_loss: 0.0892 - val_accuracy: 0.9814 - val_precision: 0.9814 - val_recall: 0.9814 - val_auc: 0.9949 - lr: 1.0000e-06\n",
      "Epoch 78/80\n",
      "657/657 [==============================] - 964s 1s/step - loss: 0.0930 - accuracy: 0.9663 - precision: 0.9676 - recall: 0.9651 - auc: 0.9980 - val_loss: 0.0891 - val_accuracy: 0.9814 - val_precision: 0.9814 - val_recall: 0.9814 - val_auc: 0.9949 - lr: 1.0000e-06\n",
      "Epoch 79/80\n",
      "657/657 [==============================] - 964s 1s/step - loss: 0.0915 - accuracy: 0.9683 - precision: 0.9698 - recall: 0.9674 - auc: 0.9979 - val_loss: 0.0891 - val_accuracy: 0.9814 - val_precision: 0.9814 - val_recall: 0.9814 - val_auc: 0.9949 - lr: 1.0000e-06\n",
      "Epoch 80/80\n",
      "657/657 [==============================] - 966s 1s/step - loss: 0.0934 - accuracy: 0.9676 - precision: 0.9690 - recall: 0.9662 - auc: 0.9978 - val_loss: 0.0889 - val_accuracy: 0.9814 - val_precision: 0.9814 - val_recall: 0.9814 - val_auc: 0.9949 - lr: 1.0000e-06\n"
     ]
    }
   ],
   "source": [
    "model_fit = model.fit(train_dataset,\n",
    "                      validation_data=test_dataset,\n",
    "                      epochs=80,\n",
    "                      steps_per_epoch=len(train_dataset),\n",
    "                      validation_steps=len(test_dataset),\n",
    "                      callbacks=callbacks)"
   ]
  },
  {
   "cell_type": "code",
   "execution_count": 16,
   "id": "d37198b5",
   "metadata": {},
   "outputs": [
    {
     "data": {
      "image/png": "[encoded data removed]",
      "text/plain": [
       "<Figure size 432x288 with 1 Axes>"
      ]
     },
     "metadata": {
      "needs_background": "light"
     },
     "output_type": "display_data"
    },
    {
     "data": {
      "image/png": "[encoded data removed]",
      "text/plain": [
       "<Figure size 432x288 with 1 Axes>"
      ]
     },
     "metadata": {
      "needs_background": "light"
     },
     "output_type": "display_data"
    },
    {
     "data": {
      "text/plain": [
       "<Figure size 432x288 with 0 Axes>"
      ]
     },
     "metadata": {},
     "output_type": "display_data"
    }
   ],
   "source": [
    "# plot the loss\n",
    "\n",
    "plt.plot(model_fit.history['loss'], label='train loss')\n",
    "plt.plot(model_fit.history['val_loss'], label='val loss')\n",
    "plt.legend()\n",
    "plt.show()\n",
    "plt.savefig('LossVal_loss')\n",
    "\n",
    "# plot the accuracy\n",
    "\n",
    "plt.plot(model_fit.history['accuracy'], label='train acc')\n",
    "plt.plot(model_fit.history['val_accuracy'], label='val acc')\n",
    "plt.legend()\n",
    "plt.show()\n",
    "plt.savefig('AccVal_acc')"
   ]
  },
  {
   "cell_type": "code",
   "execution_count": 18,
   "id": "7a50a1e3",
   "metadata": {},
   "outputs": [],
   "source": [
    "#SAVE\n",
    "\n",
    "import pickle\n",
    "f = open('custommodelhistory.pckl', 'wb')\n",
    "pickle.dump(model_fit.history, f)\n",
    "f.close()"
   ]
  }
 ],
 "metadata": {
  "kernelspec": {
   "display_name": "Python 3 (ipykernel)",
   "language": "python",
   "name": "python3"
  },
  "language_info": {
   "codemirror_mode": {
    "name": "ipython",
    "version": 3
   },
   "file_extension": ".py",
   "mimetype": "text/x-python",
   "name": "python",
   "nbconvert_exporter": "python",
   "pygments_lexer": "ipython3",
   "version": "3.9.12"
  }
 },
 "nbformat": 4,
 "nbformat_minor": 5
}
